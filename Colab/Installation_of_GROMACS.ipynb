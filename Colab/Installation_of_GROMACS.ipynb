{
  "cells": [
    {
      "cell_type": "markdown",
      "metadata": {
        "id": "view-in-github",
        "colab_type": "text"
      },
      "source": [
        "<a href=\"https://colab.research.google.com/github/camilotayac/computational_chemistry-TC/blob/master/Colab/Installation_of_GROMACS.ipynb\" target=\"_parent\"><img src=\"https://colab.research.google.com/assets/colab-badge.svg\" alt=\"Open In Colab\"/></a>"
      ]
    },
    {
      "cell_type": "markdown",
      "metadata": {
        "id": "PEMhOgQt3Xog"
      },
      "source": [
        "# 🧙‍♂️ Installation of **GROMACS** ♾️ Instalación de **GROMACS**\n",
        "\n",
        "🐉 **@Tyac**\n",
        "\n",
        "🏦 **Universidad de Caldas**\n",
        "\n",
        "🌇 **Manizales - Colombia**"
      ]
    },
    {
      "cell_type": "code",
      "execution_count": null,
      "metadata": {
        "cellView": "form",
        "id": "YijY7UDg4A7Q"
      },
      "outputs": [],
      "source": [
        "# @title ## 📁 Files for analysis ♾️ Archivos para el análisis\n",
        "# @markdown ### **🇺🇸** - Select whether you will work with tutorial files or with your own files\n",
        "# @markdown ### **🇪🇸** - Seleccione si va a trabajar con archivos del tutorial o con archivos propios\n",
        "files = 'Own files - Archivos propios'# @param ['Tutorial files - Archivos del tutorial', 'Own files - Archivos propios']\n",
        "# @markdown #### 🔴 **🇺🇸 - Note:** add the address of your folder, example: ***folder_a*** or ***folder_a/folder_b***\n",
        "# @markdown #### 🔴 **🇪🇸 - Nota:** agregue la dirección de su carpeta, ejemplo: ***carpeta_a*** o ***carpeta_a/carpeta_b***\n",
        "drive_folder_path = \"MD\" #@param {type:\"string\"}\n",
        "\n",
        "if files == 'Tutorial files - Archivos del tutorial':\n",
        "  %cd /content\n",
        "  !git clone https://github.com/camilotayac/computational_chemistry-TC.git\n",
        "  %cd computational_chemistry-TC/Examples\n",
        "elif files == 'Own files - Archivos propios':\n",
        "  from google.colab import drive\n",
        "  drive.mount('/content/drive')\n",
        "  carpeta = \"/content/drive/MyDrive/\" + drive_folder_path\n",
        "  %cd {carpeta}"
      ]
    },
    {
      "cell_type": "code",
      "execution_count": null,
      "metadata": {
        "id": "t_6GSC3j3TLu",
        "cellView": "form"
      },
      "outputs": [],
      "source": [
        "# @title # 0️⃣👻 **Recursos necesarios para el proceso y si quiere visualizar estructuras**\n",
        "# @markdown ### **🇺🇸** - Type the version of **GROMACS** to be installed\n",
        "# @markdown ### **🇪🇸** - Escriba la versión a instalar de **GROMACS**\n",
        "gromacs = \"2024.2\" # @param {\"type\":\"string\"}\n",
        "# @markdown ### **🇺🇸** - Select whether you are installing **GROMACS** with **GPU** or not.\n",
        "# @markdown ### **🇪🇸** - Seleccione si va a instalar **GROMACS** con **GPU** o no\n",
        "gpu = \"True\" # @param [\"True\", \"False\"] {allow-input: true}\n",
        "!pip install -q condacolab\n",
        "import condacolab\n",
        "condacolab.install()\n",
        "if gpu=='True':\n",
        "  !conda install gromacs=$gromacs=nompi_cuda*\n",
        "else:\n",
        "  !conda install gromacs=$gromacs\n",
        "!gmx -version"
      ]
    }
  ],
  "metadata": {
    "colab": {
      "provenance": [],
      "gpuType": "T4",
      "authorship_tag": "ABX9TyNcjy+428OW2nbqmPCMQalU",
      "include_colab_link": true
    },
    "kernelspec": {
      "display_name": "Python 3",
      "name": "python3"
    },
    "language_info": {
      "name": "python"
    },
    "accelerator": "GPU"
  },
  "nbformat": 4,
  "nbformat_minor": 0
}
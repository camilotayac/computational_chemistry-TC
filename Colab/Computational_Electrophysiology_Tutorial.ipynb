{
  "cells": [
    {
      "cell_type": "markdown",
      "metadata": {
        "id": "view-in-github",
        "colab_type": "text"
      },
      "source": [
        "<a href=\"https://colab.research.google.com/github/camilotayac/computational_chemistry-TC/blob/master/Colab/Computational_Electrophysiology_Tutorial.ipynb\" target=\"_parent\"><img src=\"https://colab.research.google.com/assets/colab-badge.svg\" alt=\"Open In Colab\"/></a>"
      ]
    },
    {
      "cell_type": "markdown",
      "metadata": {
        "id": "PEMhOgQt3Xog"
      },
      "source": [
        "# 🧙‍♂️ **Computational Electrophysiology** Tutorial ♾️ Tutorial de **Computational Electrophysiology**\n",
        "\n",
        "🐉 **@Tyac**\n",
        "\n",
        "🏦 **Universidad de Caldas**\n",
        "\n",
        "🌇 **Manizales - Colombia**"
      ]
    },
    {
      "cell_type": "code",
      "execution_count": null,
      "metadata": {
        "cellView": "form",
        "id": "t_6GSC3j3TLu"
      },
      "outputs": [],
      "source": [
        "# @title # 0️⃣👻 **Recursos necesarios para el proceso y si quiere visualizar estructuras**\n",
        "# @markdown ### **🇺🇸** - Type the version of **GROMACS** to be installed\n",
        "# @markdown ### **🇪🇸** - Escriba la versión a instalar de **GROMACS**\n",
        "gromacs = \"2024.2\" # @param {\"type\":\"string\"}\n",
        "# @markdown ### **🇺🇸** - Select whether you are installing **GROMACS** with **GPU** or not.\n",
        "# @markdown ### **🇪🇸** - Seleccione si va a instalar **GROMACS** con **GPU** o no\n",
        "gpu = \"False\" # @param [\"True\", \"False\"] {allow-input: true}\n",
        "!pip install -q condacolab\n",
        "import condacolab\n",
        "condacolab.install()\n",
        "if gpu=='True':\n",
        "  !conda install gromacs=$gromacs=nompi_cuda*\n",
        "else:\n",
        "  !conda install gromacs=$gromacs\n",
        "!gmx -version\n",
        "def leer_archivo(ruta_archivo):\n",
        "    try:\n",
        "        with open(ruta_archivo, 'r', encoding='utf-8') as archivo:\n",
        "            contenido = archivo.read()\n",
        "        return contenido\n",
        "    except FileNotFoundError:\n",
        "        return f\"Error: El archivo '{ruta_archivo}' no se encontró.\"\n",
        "    except Exception as e:\n",
        "        return f\"Error al leer el archivo: {str(e)}\"\n",
        "\n",
        "!pip install py3Dmol"
      ]
    },
    {
      "cell_type": "code",
      "execution_count": null,
      "metadata": {
        "cellView": "form",
        "colab": {
          "base_uri": "https://localhost:8080/"
        },
        "id": "YijY7UDg4A7Q",
        "outputId": "ced7ff2f-1d1b-4491-b1f7-932f52e1e057"
      },
      "outputs": [
        {
          "output_type": "stream",
          "name": "stdout",
          "text": [
            "/content\n",
            "fatal: destination path 'computational_chemistry-TC' already exists and is not an empty directory.\n",
            "/content/computational_chemistry-TC/Examples/CG\n"
          ]
        }
      ],
      "source": [
        "# @title ## 📁 Files for analysis ♾️ Archivos para el análisis\n",
        "# @markdown ### **🇺🇸** - Select whether you will work with tutorial files or with your own files\n",
        "# @markdown ### **🇪🇸** - Seleccione si va a trabajar con archivos del tutorial o con archivos propios\n",
        "files = 'Tutorial files - Archivos del tutorial'# @param ['Tutorial files - Archivos del tutorial', 'Own files - Archivos propios']\n",
        "# @markdown #### 🔴 **🇺🇸 - Note:** add the address of your folder, example: ***folder_a*** or ***folder_a/folder_b***\n",
        "# @markdown #### 🔴 **🇪🇸 - Nota:** agregue la dirección de su carpeta, ejemplo: ***carpeta_a*** o ***carpeta_a/carpeta_b***\n",
        "drive_folder_path = \"MD\" #@param {type:\"string\"}\n",
        "\n",
        "if files == 'Tutorial files - Archivos del tutorial':\n",
        "  %cd /content\n",
        "  !git clone https://github.com/camilotayac/computational_chemistry-TC.git\n",
        "  %cd computational_chemistry-TC/Examples/CG\n",
        "elif files == 'Own files - Archivos propios':\n",
        "  from google.colab import drive\n",
        "  drive.mount('/content/drive')\n",
        "  carpeta = \"/content/drive/MyDrive/\" + drive_folder_path\n",
        "  %cd {carpeta}"
      ]
    },
    {
      "cell_type": "code",
      "execution_count": null,
      "metadata": {
        "cellView": "form",
        "id": "hcn_bTKrqIs9"
      },
      "outputs": [],
      "source": [
        "# @title 1️⃣Visualización del sistema de membrana CG\n",
        "import py3Dmol\n",
        "\n",
        "def visualizar_estructura_gro(archivo_gro, estilo='stick', seleccionar='todo', radio=0.5):\n",
        "    \"\"\"\n",
        "    Visualiza una estructura molecular a partir de un archivo .gro utilizando py3Dmol.\n",
        "\n",
        "    Parámetros:\n",
        "        archivo_gro (str): Ruta del archivo .gro.\n",
        "        estilo (str): Estilo de visualización ('stick', 'sphere', 'line', 'cartoon').\n",
        "        seleccionar (str): Parte de la estructura a visualizar ('todo', 'lipidos', 'proteina', 'todo_menos_agua').\n",
        "        radio (float): Radio de visualización para los estilos 'sphere' o 'stick'.\n",
        "    \"\"\"\n",
        "    try:\n",
        "        # Lee el contenido del archivo .gro\n",
        "        with open(archivo_gro, 'r') as f:\n",
        "            estructura = f.read()\n",
        "    except FileNotFoundError:\n",
        "        print(f\"Error: El archivo '{archivo_gro}' no se encontró.\")\n",
        "        return\n",
        "    except Exception as e:\n",
        "        print(f\"Error al leer el archivo: {e}\")\n",
        "        return\n",
        "\n",
        "    # Inicializa el visor 3D\n",
        "    vista = py3Dmol.view(width=1200, height=600)\n",
        "    vista.addModel(estructura, 'gro')  # Carga el archivo como modelo\n",
        "\n",
        "    # Verifica si el estilo proporcionado es válido\n",
        "    estilos_permitidos = ['stick', 'sphere', 'line', 'cartoon']\n",
        "    if estilo not in estilos_permitidos:\n",
        "        print(f\"Estilo '{estilo}' no reconocido. Usando 'stick' por defecto.\")\n",
        "        estilo = 'stick'\n",
        "\n",
        "    # Define los parámetros del estilo\n",
        "    estilo_parametros = {estilo: {}}\n",
        "    if estilo in ['stick', 'sphere']:\n",
        "        estilo_parametros[estilo]['radius'] = radio\n",
        "\n",
        "    # Filtra la parte de la estructura a visualizar\n",
        "    if seleccionar == 'lipidos':\n",
        "        vista.setStyle({'resn': 'DPP'}, estilo_parametros)  # Selecciona los lípidos (DPP es un residuo común para lípidos en Martini)\n",
        "    elif seleccionar == 'proteina':\n",
        "        vista.setStyle({'resn': 'PROA'}, estilo_parametros)  # Selecciona la proteína (PROA es un residuo común para proteínas en Martini)\n",
        "    elif seleccionar == 'todo_menos_agua':\n",
        "        vista.setStyle({'not': {'resn': 'W'}}, estilo_parametros)  # Muestra todo excepto el agua (asumiendo que 'W' es el residuo para agua)\n",
        "    else:\n",
        "        vista.setStyle(estilo_parametros)  # Muestra todo el sistema\n",
        "\n",
        "    # Ajusta el zoom para ver la selección\n",
        "    vista.zoomTo()\n",
        "    vista.show()\n",
        "visualizar_estructura_gro('step6.6_equilibration.gro', estilo='sphere', seleccionar='todo_menos_agua',radio=1.2)"
      ]
    },
    {
      "cell_type": "code",
      "execution_count": null,
      "metadata": {
        "cellView": "form",
        "id": "R_xPxV5qw-S4"
      },
      "outputs": [],
      "source": [
        "# @title 2️⃣ Creando el sistema de Computational Electrophysiology\n",
        "eje_x = 1 # @param {type:\"slider\", min:1, max:10, step:1}\n",
        "eje_y = 1 # @param {type:\"slider\", min:1, max:10, step:1}\n",
        "eje_z = 2 # @param {type:\"slider\", min:1, max:10, step:1}\n",
        "\n",
        "\n",
        "\n",
        "!gmx genconf -f step6.6_equilibration.gro -nbox $eje_x $eje_y $eje_z -o step6.6_equilibration_2.gro"
      ]
    },
    {
      "cell_type": "code",
      "execution_count": null,
      "metadata": {
        "cellView": "form",
        "id": "HW0MHGcbvyuq"
      },
      "outputs": [],
      "source": [
        "# @title 3️⃣ Visualización del sistema de Computational Electrophysiology\n",
        "visualizar_estructura_gro('step6.6_equilibration_2.gro', estilo='sphere', seleccionar='todo_menos_agua',radio=1.2)"
      ]
    },
    {
      "cell_type": "code",
      "source": [
        "# @title 4️⃣ Creando new index\n",
        "!echo -e 'a BB\\na NA\\na CL\\nq'|gmx make_ndx -f step6.6_equilibration_2.gro -o index_1.ndx"
      ],
      "metadata": {
        "cellView": "form",
        "id": "h-RxxiCEzj_Q"
      },
      "execution_count": null,
      "outputs": []
    },
    {
      "cell_type": "code",
      "execution_count": null,
      "metadata": {
        "cellView": "form",
        "id": "4_R0-UZq44aL"
      },
      "outputs": [],
      "source": [
        "# @title 5️⃣ Ejecutando la Dinámica Molécular\n",
        "\n",
        "!gmx grompp -f step7_production_2.mdp -o step7_production_2.tpr -c step6.6_equilibration_2.gro -p system.top -n index_2.ndx\n",
        "!gmx mdrun -v -deffnm step7_production_2"
      ]
    },
    {
      "cell_type": "code",
      "execution_count": null,
      "metadata": {
        "cellView": "form",
        "id": "ciTbWjJWio3N"
      },
      "outputs": [],
      "source": [
        "# @title 6️⃣ Visualización de la Dinámica Molecular\n",
        "!echo -e '0'|gmx trjconv -s step7_production.tpr -f step7_production.xtc -o step7_production.pdb\n",
        "molecules = []\n",
        "with open(\"step7_production.pdb\", \"r\") as infile:\n",
        "    current_model = []\n",
        "    for line in infile:\n",
        "        if line.startswith(\"MODEL\"):\n",
        "            model_number = int(line.split()[1])\n",
        "        if line.startswith(\"ENDMDL\"):\n",
        "            if model_number % 10 == 0:  # Extraer cada 10mo modelo\n",
        "                molecules.append(current_model)\n",
        "            current_model = []\n",
        "        else:\n",
        "            current_model.append(line)\n",
        "\n",
        "# Crear una lista para almacenar los modelos PDB\n",
        "molecules = []\n",
        "\n",
        "# Cargar los modelos desde el archivo PDB principal\n",
        "with open(\"step7_production.pdb\", \"r\") as ifile:\n",
        "    content = ifile.read().split(\"ENDMDL\")  # Separar cada modelo por 'ENDMDL'\n",
        "\n",
        "# Agregar cada modelo a la lista de moléculas\n",
        "for model_content in content[:-1]:  # Ignorar último fragmento vacío\n",
        "    molecules.append(model_content.strip())\n",
        "\n",
        "# Inicializar el visor 3D\n",
        "view = py3Dmol.view(width=800, height=600)\n",
        "\n",
        "# Concatenar los modelos en un string compatible con Py3Dmol\n",
        "models = \"\"\n",
        "for i, mol in enumerate(molecules):\n",
        "    models += f\"MODEL {i + 1}\\n{mol}\\nENDMDL\\n\"\n",
        "\n",
        "# Añadir los modelos al visor\n",
        "view.addModelsAsFrames(models)\n",
        "\n",
        "# Aplicar el estilo, excluyendo residuos con nombre 'W'\n",
        "view.setStyle({'not': {'resn': 'W'}}, {\"sphere\": {'scale': 1.0}})\n",
        "# Ajustar la vista y configurar la animación\n",
        "view.zoomTo()\n",
        "view.animate({'loop': \"forward\"})\n",
        "view.show()\n"
      ]
    },
    {
      "cell_type": "code",
      "execution_count": null,
      "metadata": {
        "id": "Lnp7uFEhgoxN"
      },
      "outputs": [],
      "source": [
        "contenido = leer_archivo('step6.0_minimization.mdp')\n",
        "print(contenido)"
      ]
    }
  ],
  "metadata": {
    "accelerator": "GPU",
    "colab": {
      "gpuType": "T4",
      "provenance": [],
      "authorship_tag": "ABX9TyMHVeUbAELn7v1KWFtH2lLe",
      "include_colab_link": true
    },
    "kernelspec": {
      "display_name": "Python 3",
      "name": "python3"
    },
    "language_info": {
      "name": "python"
    }
  },
  "nbformat": 4,
  "nbformat_minor": 0
}
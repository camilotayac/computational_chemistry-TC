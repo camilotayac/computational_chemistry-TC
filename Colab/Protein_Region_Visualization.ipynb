{
  "cells": [
    {
      "cell_type": "markdown",
      "metadata": {
        "id": "view-in-github",
        "colab_type": "text"
      },
      "source": [
        "<a href=\"https://colab.research.google.com/github/camilotayac/computational_chemistry-TC/blob/master/Colab/Protein_Region_Visualization.ipynb\" target=\"_parent\"><img src=\"https://colab.research.google.com/assets/colab-badge.svg\" alt=\"Open In Colab\"/></a>"
      ]
    },
    {
      "cell_type": "markdown",
      "metadata": {
        "id": "fh1bcfjK3CNj"
      },
      "source": [
        "# 🧙‍♂️ **Protein** Region Visualization ♾️ Visualización de regiones de **proteínas**\n",
        "\n",
        "\n",
        "**🇺🇸** - To determine these regions, use the following programmes: [InterPro](https://www.ebi.ac.uk/interpro/), [SMART](https://smart.embl.de/) and [PROSITE](https://prosite.expasy.org/).\n",
        "\n",
        "**🇪🇸** - Para determinar estas regiones, use los siguientes programas: [InterPro](https://www.ebi.ac.uk/interpro/), [SMART](https://smart.embl.de/) y [PROSITE](https://prosite.expasy.org/).\n",
        "\n",
        "\n",
        "🐉 **@Tyac**\n",
        "\n",
        "🏦 **Universidad de Caldas**\n",
        "\n",
        "🌇 **Manizales - Colombia**"
      ]
    },
    {
      "cell_type": "code",
      "execution_count": null,
      "metadata": {
        "id": "Va6PR6URMUXx",
        "cellView": "form"
      },
      "outputs": [],
      "source": [
        "# @title ## 🟢  Installation of programs and import of required libraries ♾️ Instalación de programas e importación de librerías necesarias\n",
        "import matplotlib.pyplot as plt\n",
        "import matplotlib.patches as mpatches\n",
        "import numpy as np\n",
        "import itertools"
      ]
    },
    {
      "cell_type": "code",
      "source": [
        "\n",
        "# @title ## 🟢 Variables for analysis ♾️ Variables para análisis\n",
        "\n",
        "\n",
        "# @markdown ---\n",
        "\n",
        "\n",
        "\n",
        "\n",
        "# @markdown ### **🇺🇸** -  Set the range for residues from start to end.\n",
        "\n",
        "# @markdown ### **🇪🇸** -  Establece el rango para los residuos desde el inicio hasta el final.\n",
        "inicio_residuos = 1  # @param {\"type\":\"integer\"}\n",
        "\n",
        "fin_residuos = 708  # @param {\"type\":\"integer\"}\n",
        "# @markdown ---\n",
        "\n",
        "# Definir la secuencia de residuos y las regiones destacadas\n",
        "residuos = list(range(inicio_residuos, fin_residuos + 1))  # Suponiendo una secuencia de residuos desde inicio hasta fin\n",
        "\n",
        "# @markdown ### **🇺🇸** - Define regions (start, end, and name)\n",
        "# @markdown ### **🇺🇸** - **🔴 NOTE:** Enter regions with start, end, and label separated by commas. Multiple regions should be separated by a semicolon (;).\n",
        "# @markdown ### **🇪🇸** - Definir las regiones (inicio, fin, y nombre)\n",
        "# @markdown ### **🇪🇸** - **🔴 NOTA:** Ingrese las regiones con inicio, fin y etiqueta separados por comas. Varias regiones deben estar separadas por un punto y coma (;).\n",
        "file_name = \"1, 351, Región A; 460, 580, Región A; 150, 400, Región B; 300, 550, Región C; 400, 450, Región D\"  # @param {type:\"string\"}\n",
        "# @markdown ---\n",
        "\n",
        "# Generar niveles Y automáticamente\n",
        "niveles_y = {}\n",
        "nivel_actual = 1.0\n",
        "\n",
        "# Procesar la información manual y agregarla a la lista de regiones\n",
        "regiones = []  # Se definirán manualmente\n",
        "for linea in file_name.strip().split(';'):\n",
        "    inicio, fin, nombre = linea.split(',')\n",
        "    nombre = nombre.strip()\n",
        "    if nombre not in niveles_y:\n",
        "        niveles_y[nombre] = nivel_actual\n",
        "        nivel_actual += 1.0\n",
        "    regiones.append((int(inicio.strip()), int(fin.strip()), nombre, niveles_y[nombre]))\n",
        "\n",
        "\n",
        "# @markdown ### **🇺🇸** - Number of DPI for the image\n",
        "# @markdown ### **🇪🇸** - Número de DPI para la imagen\n",
        "\n",
        "dpi = 500 # @param {type:\"slider\", min:100, max:1000, step:100}\n",
        "# @markdown ---\n",
        "\n",
        "# @markdown ### **🇺🇸** - Select language\n",
        "# @markdown ### **🇪🇸** - Seleccionar el idioma\n",
        "tipo_idioma = \"English\"  # @param [\"Spanish\", \"English\"]\n",
        "# @markdown ---\n",
        "\n",
        "# @markdown ### **🇺🇸** - Define title for saved images\n",
        "# @markdown ### **🇪🇸** - Definir el título para guardar las imágenes\n",
        "titulo = \"grafico_residuos\"  # @param {type:\"string\"}\n",
        "\n",
        "# Crear la figura y el eje\n",
        "fig, ax = plt.subplots(figsize=(15, 2))\n",
        "ax.spines['top'].set_visible(False)\n",
        "ax.spines['right'].set_visible(False)\n",
        "\n",
        "# Generar colores automáticamente\n",
        "color_map = plt.cm.get_cmap('viridis', len(regiones))\n",
        "color_cycle = itertools.cycle([color_map(i) for i in range(len(regiones))])  # Utilizar colores de 'viridis' para las regiones\n",
        "colores = {}\n",
        "\n",
        "# Graficar las regiones como barras horizontales en diferentes niveles\n",
        "for inicio, fin, nombre, nivel_y in regiones:\n",
        "    if nombre not in colores:\n",
        "        colores[nombre] = next(color_cycle)\n",
        "    region_label = f'{inicio}-{fin}' if (fin - inicio) >= 30 else ''\n",
        "    ax.broken_barh([(inicio, fin - inicio)], (nivel_y - 0.2, 1), facecolors=colores[nombre], edgecolor='none')\n",
        "    if region_label:\n",
        "        ax.text(inicio + (fin - inicio) / 2, nivel_y + 0.25, region_label, ha='center', va='center', fontsize=10, color='white')\n",
        "\n",
        "# Definir etiquetas en función del idioma\n",
        "if tipo_idioma == \"Spanish\":\n",
        "    xlabel = \"Residuo\"\n",
        "    ylabel = \"Dominios\"\n",
        "else:\n",
        "    xlabel = \"Residue\"\n",
        "    ylabel = \"Domains\"\n",
        "\n",
        "# Añadir etiquetas y leyenda\n",
        "ax.set_xlabel(xlabel, labelpad=10)\n",
        "ax.set_ylabel(ylabel, labelpad=10)\n",
        "ax.set_xlim(inicio_residuos, fin_residuos)\n",
        "ax.set_yticks([])\n",
        "ax.spines['left'].set_color('none')\n",
        "ax.set_xticks(range(0, fin_residuos, 100))  # Mostrar ticks en intervalos de 100, comenzando desde 1\n",
        "ax.tick_params(axis='x', pad=15)  # Mover las etiquetas del eje x hacia afuera\n",
        "ax.legend(handles=[mpatches.Patch(color=colores[nombre], label=nombre) for nombre in colores], loc='upper right', bbox_to_anchor=(1.2, 1), borderaxespad=0., frameon=False)\n",
        "\n",
        "# Guardar la gráfica\n",
        "plt.savefig(f'{titulo}.png', format=\"png\", transparent=True, dpi=dpi, bbox_inches='tight')  # Usa la variable dpi_val para los DPI\n",
        "plt.savefig(f'{titulo}.svg', format=\"svg\", transparent=True, dpi=dpi, bbox_inches='tight')\n",
        "plt.savefig(f'{titulo}.pdf', format=\"pdf\", transparent=True, dpi=dpi, bbox_inches='tight')\n",
        "\n",
        "# Mostrar la gráfica\n",
        "plt.tight_layout()\n",
        "plt.show()"
      ],
      "metadata": {
        "colab": {
          "base_uri": "https://localhost:8080/",
          "height": 245
        },
        "id": "l08BCE0vVv0w",
        "outputId": "2f734549-28b6-413a-eb7d-9acee59d22b5",
        "cellView": "form"
      },
      "execution_count": 84,
      "outputs": [
        {
          "output_type": "stream",
          "name": "stderr",
          "text": [
            "<ipython-input-84-313b9ccfb6a1>:63: MatplotlibDeprecationWarning: The get_cmap function was deprecated in Matplotlib 3.7 and will be removed two minor releases later. Use ``matplotlib.colormaps[name]`` or ``matplotlib.colormaps.get_cmap(obj)`` instead.\n",
            "  color_map = plt.cm.get_cmap('viridis', len(regiones))\n"
          ]
        },
        {
          "output_type": "display_data",
          "data": {
            "text/plain": [
              "<Figure size 1500x200 with 1 Axes>"
            ],
            "image/png": "[encoded data removed]"
          },
          "metadata": {}
        }
      ]
    }
  ],
  "metadata": {
    "colab": {
      "provenance": [],
      "authorship_tag": "ABX9TyNcAB7PvDZOW9TdXBagLIrE",
      "include_colab_link": true
    },
    "kernelspec": {
      "display_name": "Python 3",
      "name": "python3"
    },
    "language_info": {
      "name": "python"
    }
  },
  "nbformat": 4,
  "nbformat_minor": 0
}